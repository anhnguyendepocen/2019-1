{
 "cells": [
  {
   "cell_type": "markdown",
   "metadata": {},
   "source": [
    "# MATH 210 Introduction to Mathematical Computing\n",
    "\n",
    "## November 15, 2019\n",
    "\n",
    "* Euler's method"
   ]
  },
  {
   "cell_type": "code",
   "execution_count": 1,
   "metadata": {},
   "outputs": [],
   "source": [
    "import numpy as np\n",
    "import matplotlib.pyplot as plt"
   ]
  },
  {
   "cell_type": "markdown",
   "metadata": {},
   "source": [
    "Write a function called `euler` which takes input parameters `f`, `t` and `y0` where:\n",
    "\n",
    "* `f` is a Python function of 2 variables representing the right hand side of a first order ODE: $y'=f(t,y)$\n",
    "* `t` is a Python list or Numpy array of $t$ values where we approximate corresponding $y$ values by Euler's method\n",
    "* `y0` is the initial condition $y(t_0)=y_0$ where $t_0$ is the entry at index 0 of `t`"
   ]
  },
  {
   "cell_type": "code",
   "execution_count": 2,
   "metadata": {},
   "outputs": [],
   "source": [
    "def euler(f,t,y0):\n",
    "    N = len(t)\n",
    "    y = np.zeros(N)\n",
    "    y[0] = y0\n",
    "    for n in range(0,N-1):\n",
    "        y[n+1] = y[n] + f(t[n],y[n])*(t[n+1] - t[n])\n",
    "    return y"
   ]
  },
  {
   "cell_type": "markdown",
   "metadata": {},
   "source": [
    "**Exercise 1.** Consider the equation $y'=-y , \\ y(0)=1$. Approximate $y(0.5)$ by Euler's method using step size $h=0.1$."
   ]
  },
  {
   "cell_type": "code",
   "execution_count": 3,
   "metadata": {},
   "outputs": [
    {
     "name": "stdout",
     "output_type": "stream",
     "text": [
      "[1.      0.9     0.81    0.729   0.6561  0.59049]\n"
     ]
    }
   ],
   "source": [
    "def f(t,y):\n",
    "    return -y\n",
    "\n",
    "t = [0.0,0.1,0.2,0.3,0.4,0.5]\n",
    "y0 = 1\n",
    "\n",
    "y = euler(f,t,y0)\n",
    "print(y)"
   ]
  },
  {
   "cell_type": "markdown",
   "metadata": {},
   "source": [
    "Compute the error at $t=0.5$:"
   ]
  },
  {
   "cell_type": "code",
   "execution_count": 4,
   "metadata": {},
   "outputs": [
    {
     "data": {
      "text/plain": [
       "0.016040659712633354"
      ]
     },
     "execution_count": 4,
     "metadata": {},
     "output_type": "execute_result"
    }
   ],
   "source": [
    "np.abs(np.exp(-0.5) - y[5])"
   ]
  },
  {
   "cell_type": "markdown",
   "metadata": {},
   "source": [
    "Plot the approximation with the true solution:"
   ]
  },
  {
   "cell_type": "code",
   "execution_count": 5,
   "metadata": {},
   "outputs": [
    {
     "data": {
      "image/png": "[encoded data removed]",
      "text/plain": [
       "<Figure size 432x288 with 1 Axes>"
      ]
     },
     "metadata": {
      "needs_background": "light"
     },
     "output_type": "display_data"
    }
   ],
   "source": [
    "t_true = np.linspace(0,0.5,50)\n",
    "y_true = np.exp(-t_true)\n",
    "plt.plot(t_true,y_true,'r')\n",
    "plt.plot(t,y,'b.-')\n",
    "plt.show()"
   ]
  },
  {
   "cell_type": "markdown",
   "metadata": {},
   "source": [
    "**Exercise 2.** Repeat Exercise 1 with $h=0.01$."
   ]
  },
  {
   "cell_type": "code",
   "execution_count": 6,
   "metadata": {},
   "outputs": [
    {
     "name": "stdout",
     "output_type": "stream",
     "text": [
      "Error at t=0.5 is 0.0015245925750967393\n"
     ]
    }
   ],
   "source": [
    "def f(t,y):\n",
    "    return -y\n",
    "\n",
    "t = np.arange(0,0.51,0.01)\n",
    "y0 = 1\n",
    "\n",
    "y = euler(f,t,y0)\n",
    "print('Error at t=0.5 is',np.abs(np.exp(-0.5) - y[-1]))"
   ]
  },
  {
   "cell_type": "markdown",
   "metadata": {},
   "source": [
    "**Exercise 3.** Consider the equation $y' = y^2 + t , y(0)=0$. Approximate $y(1)$ using Euler's method with $h=0.25$."
   ]
  },
  {
   "cell_type": "code",
   "execution_count": 7,
   "metadata": {},
   "outputs": [
    {
     "name": "stdout",
     "output_type": "stream",
     "text": [
      "[0.         0.         0.0625     0.18847656 0.38485742]\n"
     ]
    }
   ],
   "source": [
    "def f(t,y):\n",
    "    return y**2 + t\n",
    "\n",
    "t = [0.0,0.25,0.5,0.75,1.0]\n",
    "y0 = 0\n",
    "\n",
    "y = euler(f,t,y0)\n",
    "print(y)"
   ]
  },
  {
   "cell_type": "markdown",
   "metadata": {},
   "source": [
    "Plot the approximation:"
   ]
  },
  {
   "cell_type": "code",
   "execution_count": 8,
   "metadata": {},
   "outputs": [
    {
     "data": {
      "image/png": "[encoded data removed]",
      "text/plain": [
       "<Figure size 432x288 with 1 Axes>"
      ]
     },
     "metadata": {
      "needs_background": "light"
     },
     "output_type": "display_data"
    }
   ],
   "source": [
    "plt.plot(t,y,'b.-')\n",
    "plt.show()"
   ]
  }
 ],
 "metadata": {
  "kernelspec": {
   "display_name": "Python 3",
   "language": "python",
   "name": "python3"
  },
  "language_info": {
   "codemirror_mode": {
    "name": "ipython",
    "version": 3
   },
   "file_extension": ".py",
   "mimetype": "text/x-python",
   "name": "python",
   "nbconvert_exporter": "python",
   "pygments_lexer": "ipython3",
   "version": "3.7.3"
  }
 },
 "nbformat": 4,
 "nbformat_minor": 2
}
