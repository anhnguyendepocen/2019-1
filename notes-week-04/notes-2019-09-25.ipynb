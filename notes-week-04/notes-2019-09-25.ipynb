{
 "cells": [
  {
   "cell_type": "markdown",
   "metadata": {},
   "source": [
    "# MATH 210 Introduction to Mathematical Computing\n",
    "\n",
    "## September 25, 2019\n",
    "\n",
    "* Bisection method\n",
    "* Secant method"
   ]
  },
  {
   "cell_type": "markdown",
   "metadata": {},
   "source": [
    "## Bisection method\n",
    "\n",
    "The [bisection method](https://en.wikipedia.org/wiki/Bisection_method) generates a sequence of intervals to find an approximation of a root $f(x) = 0$ for a continuous function $f$.\n",
    "\n",
    "1. Start with $[a_0,b_0]$ such that $f(a_0) f(b_0) < 0$.\n",
    "2. Compute midpoint $m_0 = (a_0 + b_0)/2$.\n",
    "3. Construct $[a_1,b_1]$ where:\n",
    "  * $a_1 = a_0$ and $b_1 = m_0$ if $f(a_0) f(m_0) < 0$.\n",
    "  * $a_1 = m_0$ and $b_1 = b_0$ if $f(b_0) f(m_0) < 0$.\n",
    "4. Repeat."
   ]
  },
  {
   "cell_type": "markdown",
   "metadata": {},
   "source": [
    "Write a function called `bisection` which takes 4 input parameters `f`, `a`, `b` and `N` and returns a tuple `(m_N,error)` where `m_N` is the midpoint of the Nth interval from bisection method and `error` is the error bound:\n",
    "\n",
    "$$\n",
    "| x_{\\text{true}} - m_N| < \\frac{b - a}{2^{N+1}}\n",
    "$$"
   ]
  },
  {
   "cell_type": "code",
   "execution_count": 1,
   "metadata": {},
   "outputs": [],
   "source": [
    "def bisection(f,a,b,N):\n",
    "    if f(a)*f(b) > 0:\n",
    "        print(\"Bisection method fails.\")\n",
    "        return None\n",
    "    elif f(a) == 0:\n",
    "        print(\"Found exact solution at the left endpoint.\")\n",
    "        return (a,0.0)\n",
    "    elif f(b) == 0:\n",
    "        print(\"Found exact solution at the right endpoint.\")\n",
    "        return (b,0.0)\n",
    "    a_n = a\n",
    "    b_n = b\n",
    "    for n in range(1,N+1):\n",
    "        m_n = (a_n + b_n)/2\n",
    "        f_m_n = f(m_n)\n",
    "        if f(a_n)*f_m_n < 0:\n",
    "            a_n = a_n\n",
    "            b_n = m_n\n",
    "        elif f(b_n)*f_m_n < 0:\n",
    "            a_n = m_n\n",
    "            b_n = b_n\n",
    "        else:\n",
    "            print(\"Found exact solution.\")\n",
    "            return (m_n,0.0)\n",
    "    root = (a_n + b_n)/2\n",
    "    error = (b - a)/2**(N+1)\n",
    "    return (root,error)"
   ]
  },
  {
   "cell_type": "code",
   "execution_count": 4,
   "metadata": {},
   "outputs": [
    {
     "name": "stdout",
     "output_type": "stream",
     "text": [
      "Root: 1.4150390625\n",
      "Error is less than 0.0009765625\n"
     ]
    }
   ],
   "source": [
    "def f(x):\n",
    "    return x**2 - 2\n",
    "\n",
    "result = bisection(f,0,2,10)\n",
    "print(\"Root:\",result[0])\n",
    "print(\"Error is less than\",result[1])"
   ]
  },
  {
   "cell_type": "code",
   "execution_count": 5,
   "metadata": {},
   "outputs": [
    {
     "name": "stdout",
     "output_type": "stream",
     "text": [
      "Root: 0.33447265625\n",
      "Error is less than 0.00048828125\n"
     ]
    }
   ],
   "source": [
    "def f(x):\n",
    "    return x**5 - 3*x + 1\n",
    "\n",
    "result = bisection(f,0,1,10)\n",
    "print(\"Root:\",result[0])\n",
    "print(\"Error is less than\",result[1])"
   ]
  },
  {
   "cell_type": "markdown",
   "metadata": {},
   "source": [
    "## Secant method\n",
    "\n",
    "The [secant method](https://en.wikipedia.org/wiki/Secant_method) generates a sequence of intervals to find an approximation of a root $f(x) = 0$ for a continuous function $f$.\n",
    "\n",
    "1. Start with $[a_0,b_0]$ such that $f(a_0) f(b_0) < 0$.\n",
    "2. Compute midpoint $m_0$ by the formula below.\n",
    "3. Construct $[a_1,b_1]$ where\n",
    "  * $a_1 = a_0$ and $b_1 = m_0$ if $f(a_0) f(m_0) < 0$.\n",
    "  * $a_1 = m_0$ and $b_1 = b_0$ if $f(b_0) f(m_0) < 0$.\n",
    "4. Repeat.\n",
    "\n",
    "We compute the $x$-interccept of the secant line by the formula\n",
    "\n",
    "$$\n",
    "m_n = a_n - f(a_n) \\frac{b_n - a_n}{f(b_n) - f(a_n)}\n",
    "$$\n",
    "\n",
    "Notice that there is no easy way to estimate the error in the secant method!"
   ]
  },
  {
   "cell_type": "code",
   "execution_count": 8,
   "metadata": {},
   "outputs": [],
   "source": [
    "def secant(f,a,b,N):\n",
    "    if f(a)*f(b) > 0:\n",
    "        print(\"Secant method fails.\")\n",
    "        return None\n",
    "    elif f(a) == 0:\n",
    "        print(\"Found exact solution at the left endpoint.\")\n",
    "        return a\n",
    "    elif f(b) == 0:\n",
    "        print(\"Found exact solution at the right endpoint.\")\n",
    "        return b\n",
    "    a_n = a\n",
    "    b_n = b\n",
    "    for n in range(1,N+1):\n",
    "        m_n = a_n - f(a_n)*(b_n - a_n)/(f(b_n) - f(a_n))\n",
    "        f_m_n = f(m_n)\n",
    "        if f(a_n)*f_m_n < 0:\n",
    "            a_n = a_n\n",
    "            b_n = m_n\n",
    "        elif f(b_n)*f_m_n < 0:\n",
    "            a_n = m_n\n",
    "            b_n = b_n\n",
    "        else:\n",
    "            print(\"Found exact solution.\")\n",
    "            return (m_n,0.0)\n",
    "    root = a_n - f(a_n)*(b_n - a_n)/(f(b_n) - f(a_n))\n",
    "    return root"
   ]
  },
  {
   "cell_type": "code",
   "execution_count": 9,
   "metadata": {},
   "outputs": [
    {
     "name": "stdout",
     "output_type": "stream",
     "text": [
      "Root: 0.33473414240984306\n"
     ]
    }
   ],
   "source": [
    "def f(x):\n",
    "    return x**5 - 3*x + 1\n",
    "\n",
    "root = secant(f,0,1,5)\n",
    "print(\"Root:\",root)"
   ]
  }
 ],
 "metadata": {
  "kernelspec": {
   "display_name": "Python 3",
   "language": "python",
   "name": "python3"
  },
  "language_info": {
   "codemirror_mode": {
    "name": "ipython",
    "version": 3
   },
   "file_extension": ".py",
   "mimetype": "text/x-python",
   "name": "python",
   "nbconvert_exporter": "python",
   "pygments_lexer": "ipython3",
   "version": "3.7.3"
  }
 },
 "nbformat": 4,
 "nbformat_minor": 2
}
