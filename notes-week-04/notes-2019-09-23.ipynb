{
 "cells": [
  {
   "cell_type": "markdown",
   "metadata": {},
   "source": [
    "# MATH 210 Introduction to Mathematical Computing\n",
    "\n",
    "## September 23, 2019\n",
    "\n",
    "* Root Finding\n",
    "* Bisection Method"
   ]
  },
  {
   "cell_type": "markdown",
   "metadata": {},
   "source": [
    "## Root Finding\n",
    "\n",
    "Root finding refers to the problem of finding solutions of an equation of the form\n",
    "\n",
    "$$\n",
    "f(x) = 0\n",
    "$$"
   ]
  },
  {
   "cell_type": "markdown",
   "metadata": {},
   "source": [
    "If $f(x)$ is a quadratic polynomial\n",
    "\n",
    "$$\n",
    "f(x) = ax^2 + bx + c\n",
    "$$\n",
    "\n",
    "then there is a formula for the roots\n",
    "\n",
    "$$\n",
    "x = \\frac{-b \\pm \\sqrt{b^2 - 4ac}}{2a}\n",
    "$$"
   ]
  },
  {
   "cell_type": "markdown",
   "metadata": {},
   "source": [
    "In general, there is no nice formula to find roots of a random function $f(x)$. For example, we cannot explicitly solve\n",
    "\n",
    "$$\n",
    "e^{-x} - x + 1 = 0\n",
    "$$\n",
    "\n",
    "or a quintic polynomial\n",
    "\n",
    "$$\n",
    "x^5+x^3-1 = 0\n",
    "$$"
   ]
  },
  {
   "cell_type": "markdown",
   "metadata": {},
   "source": [
    "There is no nice formula for the roots. We need to solve numerically!"
   ]
  },
  {
   "cell_type": "markdown",
   "metadata": {},
   "source": [
    "## Bisection Method\n",
    "\n",
    "Suppose we have a continuous function $f(x)$ and an interval $[a,b]$ such that $f(a)f(b) < 0$. In other words, the endpoint values $f(a)$ and $f(b)$ have opposite sign.  Then the intermediate value theorem states that there is some $c$ between $a$ and $b$ such that $f(c) = 0$.\n",
    "\n",
    "Look at the midpoint $m = (a+b)/2$. Then either:\n",
    "\n",
    "1. $f(m) = 0$ and we found a root!\n",
    "2. $f(m) < 0$.\n",
    "3. $f(m) > 0$.\n",
    "\n",
    "That means that the root $c$ is in one of the smaller intervals $[a,m]$ or $[m,b]$."
   ]
  },
  {
   "cell_type": "markdown",
   "metadata": {},
   "source": [
    "The Bisection method goes like this:\n",
    "\n",
    "1. Start with the interval $[a_0,b_0]$ where $a_0=a$ and $b_0=b$.\n",
    "2. Compute $m = (a_0 + b_0)/2$ and choose the next interval $[a_1,b_1]$ based in the following:\n",
    "  1. Choose $[a,m]$ if $f(a)f(m) < 0$.\n",
    "  2. Choose $[m,b]$ if $f(m) f(b) < 0$.\n",
    "3. Repeat 2 until we reach the desired tolerance.\n",
    "4. Return the midpoint of the last interval $[a_N,b_N]$.\n",
    "\n",
    "If the true root is $x$ then the error of the approximation $m_N = (a+N + b_N)/2$ is bounded by\n",
    "\n",
    "$$\n",
    "| x - m_N | < \\frac{b - a}{2^{N+1}}\n",
    "$$"
   ]
  },
  {
   "cell_type": "markdown",
   "metadata": {},
   "source": [
    "Let's write a function called `bisection` which takes 4 input parameters `f`, `a`, `b` and `N` and returns an approximation of a root of $f(x)=0$ in the interval $[a,b]$ after `N` iterations."
   ]
  },
  {
   "cell_type": "code",
   "execution_count": 1,
   "metadata": {},
   "outputs": [],
   "source": [
    "def bisection(f,a,b,N):\n",
    "    if f(a)*f(b) >= 0:\n",
    "        print(\"Bisection method fails.\")\n",
    "        return None\n",
    "    a_n = a\n",
    "    b_n = b\n",
    "    for n in range(1,N+1):\n",
    "        m_n = (a_n + b_n)/2\n",
    "        f_m_n = f(m_n)\n",
    "        if f(a_n)*f_m_n < 0:\n",
    "            a_n = a_n\n",
    "            b_n = m_n\n",
    "        elif f(b_n)*f_m_n < 0:\n",
    "            a_n = m_n\n",
    "            b_n = b_n\n",
    "        elif f_m_n == 0:\n",
    "            print(\"Found exact solution.\")\n",
    "            return m_n\n",
    "        else:\n",
    "            print(\"Bisection method fails.\")\n",
    "            return None\n",
    "    return (a_n + b_n)/2"
   ]
  },
  {
   "cell_type": "code",
   "execution_count": 2,
   "metadata": {},
   "outputs": [
    {
     "data": {
      "text/plain": [
       "1.0009765625"
      ]
     },
     "execution_count": 2,
     "metadata": {},
     "output_type": "execute_result"
    }
   ],
   "source": [
    "def f(x):\n",
    "    return x**2 - 1\n",
    "\n",
    "bisection(f,0.1,2.9,10)"
   ]
  }
 ],
 "metadata": {
  "kernelspec": {
   "display_name": "Python 3",
   "language": "python",
   "name": "python3"
  },
  "language_info": {
   "codemirror_mode": {
    "name": "ipython",
    "version": 3
   },
   "file_extension": ".py",
   "mimetype": "text/x-python",
   "name": "python",
   "nbconvert_exporter": "python",
   "pygments_lexer": "ipython3",
   "version": "3.7.3"
  }
 },
 "nbformat": 4,
 "nbformat_minor": 2
}
