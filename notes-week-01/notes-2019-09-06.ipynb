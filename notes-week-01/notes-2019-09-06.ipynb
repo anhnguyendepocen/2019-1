{
 "cells": [
  {
   "cell_type": "markdown",
   "metadata": {},
   "source": [
    "# MATH 210 Introduction to Mathematical Computing\n",
    "\n",
    "## September 6, 2019\n",
    "\n",
    "1. More on Markdown\n",
    "  * Review: text, headers, links, images\n",
    "  * Code, lists, tables\n",
    "2. LaTeX"
   ]
  },
  {
   "cell_type": "markdown",
   "metadata": {},
   "source": [
    "## 1. More on Markdown\n",
    "\n",
    "We've seen how to format text like *emphasis* and **strong**. We've also seen how to make headers like\n",
    "\n",
    "#### This is a H4 header"
   ]
  },
  {
   "cell_type": "markdown",
   "metadata": {},
   "source": [
    "We make links with the syntax `[description](url)` as in\n",
    "\n",
    "[Python documentation](https://docs.python.org)\n",
    "\n",
    "We include images with the syntax `![description](url)` as in\n",
    "\n",
    "![Python logo](https://www.python.org/static/img/python-logo@2x.png)"
   ]
  },
  {
   "cell_type": "markdown",
   "metadata": {},
   "source": [
    "We use back ticks to write text that displays verbatim as code as in `[description](url)`. We can write a block of code with triple back ticks as in\n",
    "\n",
    "```\n",
    "def fun(x):\n",
    "    return x**2\n",
    "```"
   ]
  },
  {
   "cell_type": "markdown",
   "metadata": {},
   "source": [
    "We make ordered lists simply using numbers and periods as in\n",
    "\n",
    "1. MATH 210\n",
    "2. MATH 215\n",
    "3. ECON 345\n",
    "4. MICB 202\n",
    "5. PSYC 308"
   ]
  },
  {
   "cell_type": "markdown",
   "metadata": {},
   "source": [
    "We make unordered lists with asterisks as in\n",
    "\n",
    "* Bianca Andreescu\n",
    "* Serena Williams\n",
    "* Raphael Nadal\n",
    "* Billie Jean King"
   ]
  },
  {
   "cell_type": "markdown",
   "metadata": {},
   "source": [
    "We make nested lists using indentation as in\n",
    "\n",
    "1. MATH 210\n",
    "  * Instructor: Patrick Walls\n",
    "  * Topics:\n",
    "    * Jupyter\n",
    "    * Python\n",
    "    * SciPy\n",
    "2. MATH 215\n",
    "  * Instructor: Some Body\n",
    "  * Topics:\n",
    "     * First order equations\n",
    "     * Second order equations\n",
    "     * Laplace transforms\n",
    "     * Systems of equations\n",
    "3. PMAT 315\n",
    "  * Instructor: Clifton Cunningham\n",
    "  * Topics:\n",
    "    * Groups\n",
    "    * Homomorphisms\n",
    "    * Isomorphism Theorem"
   ]
  },
  {
   "cell_type": "markdown",
   "metadata": {},
   "source": [
    "We make tables using the following syntax\n",
    "\n",
    "```\n",
    "\n",
    "| Country | Capital |\n",
    "| :---: | :---: |\n",
    "| Canada | Ottawa |\n",
    "| Brazil | Brasilia |\n",
    "| Kenya | Nairobi |\n",
    "| Laos | Vientiane |\n",
    "| Estonia | Tallinn |\n",
    "```\n",
    "\n",
    "| Country | Capital |\n",
    "| :---: | :---: |\n",
    "| Canada | Ottawa |\n",
    "| Brazil | Brasilia |\n",
    "| Kenya | Nairobi |\n",
    "| Laos | Vientiane |\n",
    "| Estonia | Tallinn |"
   ]
  },
  {
   "cell_type": "markdown",
   "metadata": {},
   "source": [
    "## 2. LaTeX\n",
    "\n",
    "[LaTeX](https://en.wikibooks.org/wiki/LaTeX) is a type setting program for writing scientific documents. We are only going to use the part of LaTeX that renders [mathematical notation](https://en.wikibooks.org/wiki/LaTeX/Mathematics)."
   ]
  },
  {
   "cell_type": "markdown",
   "metadata": {},
   "source": [
    "We use dollar signs `$ ... $` to indicate LaTeX code. For example, `$f(x) = x^2$` renders as $f(x) = x^2$. We use double dollar signs for display style. For example,\n",
    "\n",
    "```\n",
    "$$\n",
    "f'(a) = \\lim_{x \\to a} \\frac{f(x) - f(a)}{x - a}\n",
    "$$\n",
    "```\n",
    "\n",
    "renders as \n",
    "\n",
    "$$\n",
    "f'(a) = \\lim_{x \\to a} \\frac{f(x) - f(a)}{x - a}\n",
    "$$"
   ]
  },
  {
   "cell_type": "markdown",
   "metadata": {},
   "source": [
    "Checkout our [textbook](http://www.math.ubc.ca/~pwalls/math-python/jupyter/latex/) for a list of common symbols. Or the [LaTeX WikiBook](https://en.wikibooks.org/wiki/LaTeX/Mathematics). Or use [DeTeXify](http://detexify.kirelabs.org/classify.html)."
   ]
  },
  {
   "cell_type": "markdown",
   "metadata": {},
   "source": [
    "**Exercise.** Find a theorem or definition from one of your MATH or STAT classes and LaTeX it!"
   ]
  },
  {
   "cell_type": "markdown",
   "metadata": {},
   "source": [
    "**Definition.** The [Fundamental Theorem of Calculus](https://en.wikipedia.org/wiki/Fundamental_theorem_of_calculus) states\n",
    "\n",
    "$$\n",
    "\\int_a^b f(x) dx = F(b) - F(a)\n",
    "$$\n",
    "\n",
    "where $F(x)$ is an antiderivative of $f(x)$."
   ]
  },
  {
   "cell_type": "markdown",
   "metadata": {},
   "source": [
    "**Definition.** The [Riemann zeta function](https://en.wikipedia.org/wiki/Riemann_zeta_function) is\n",
    "\n",
    "$$\n",
    "\\zeta(s) = \\sum_{n=1}^{\\infty} \\frac{1}{n^s}\n",
    "= \\prod_p \\frac{1}{1 - p^{-s}}\n",
    "$$"
   ]
  },
  {
   "cell_type": "markdown",
   "metadata": {},
   "source": [
    "**Definition.** The [Laplace transform](https://en.wikipedia.org/wiki/Laplace_transform) of $f(t)$ is\n",
    "\n",
    "$$\n",
    "\\mathcal{L} \\{ f(t) \\} = F(s) = \\int_{0^-}^{\\infty} e^{-st} f(t) dt\n",
    "$$"
   ]
  },
  {
   "cell_type": "markdown",
   "metadata": {},
   "source": [
    "**Definition.** The [divergence](https://en.wikipedia.org/wiki/Divergence_theorem) of a function $f(x,y,z)$ is\n",
    "\n",
    "$$\n",
    "\\text{div} f = \\nabla \\cdot f\n",
    "$$\n",
    "\n",
    "where\n",
    "\n",
    "$$\n",
    "\\nabla = \\left( \\frac{\\partial}{\\partial x} , \\frac{\\partial}{\\partial y} , \\frac{\\partial}{\\partial z} \\right)\n",
    "$$"
   ]
  }
 ],
 "metadata": {
  "kernelspec": {
   "display_name": "Python 3",
   "language": "python",
   "name": "python3"
  },
  "language_info": {
   "codemirror_mode": {
    "name": "ipython",
    "version": 3
   },
   "file_extension": ".py",
   "mimetype": "text/x-python",
   "name": "python",
   "nbconvert_exporter": "python",
   "pygments_lexer": "ipython3",
   "version": "3.7.3"
  }
 },
 "nbformat": 4,
 "nbformat_minor": 2
}
