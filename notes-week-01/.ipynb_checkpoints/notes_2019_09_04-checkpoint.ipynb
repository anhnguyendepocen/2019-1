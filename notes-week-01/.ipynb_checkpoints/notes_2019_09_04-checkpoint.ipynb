{
 "cells": [
  {
   "cell_type": "markdown",
   "metadata": {},
   "source": [
    "# MATH 210 Introduction to Mathematical Computing\n",
    "\n",
    "## September 4, 2019\n",
    "\n",
    "1. Introduction to Jupyter\n",
    "2. Modes and cells\n",
    "3. Markdown\n",
    "  * Headers\n",
    "  * Text formatting\n",
    "  * Lists\n",
    "  * Links\n",
    "  * Images"
   ]
  },
  {
   "cell_type": "markdown",
   "metadata": {},
   "source": [
    "## 1. Introduction to Jupyter\n",
    "\n",
    "Jupyter is a web application for writing code and text together. Syzygy is a web service that hosts Jupyter for UBC students and faculty."
   ]
  },
  {
   "cell_type": "markdown",
   "metadata": {},
   "source": [
    "## 2. Modes and cells\n",
    "\n",
    "There are 2 modes: edit and command mode. Edit is indicated by a green border around the cell. We write code and text in edit mode. Command mode is indicated by a blue border around the cell. We do notebook edits in command mode like cut cell, paste cell, ... Use ESC to switch between edit mode and command mode."
   ]
  },
  {
   "cell_type": "markdown",
   "metadata": {},
   "source": [
    "## 3. Markdown\n",
    "\n",
    "Markdown is a simple text to HTML markup language. For example, we use `#` for headers as in:\n",
    "\n",
    "```\n",
    "# Header H1\n",
    "\n",
    "## Header H2\n",
    "\n",
    "### Header H3\n",
    "```\n",
    "\n",
    "# Header H1\n",
    "\n",
    "## Header H2\n",
    "\n",
    "### Header H3"
   ]
  },
  {
   "cell_type": "markdown",
   "metadata": {},
   "source": [
    "We use asterisks `*` for `*emphasis*` as in\n",
    "\n",
    "*emphasis*\n",
    "\n",
    "We use double asterisks `**` for `*strong*` as in\n",
    "\n",
    "**strong**"
   ]
  },
  {
   "cell_type": "markdown",
   "metadata": {},
   "source": [
    "We use the syntax `[description](url)` to display a link as in\n",
    "\n",
    "```\n",
    "[UBC Math Department](http://www.math.ubc.ca)\n",
    "```\n",
    "\n",
    "[UBC Math Department](http://www.math.ubc.ca)"
   ]
  },
  {
   "cell_type": "markdown",
   "metadata": {},
   "source": [
    "We use the syntax `![description](url)` to display an image as in\n",
    "\n",
    "![kitten](https://www.bluecross.org.uk/sites/default/files/d8/assets/images/118809lprLR.jpg)"
   ]
  },
  {
   "cell_type": "code",
   "execution_count": null,
   "metadata": {},
   "outputs": [],
   "source": []
  }
 ],
 "metadata": {
  "kernelspec": {
   "display_name": "Python 3",
   "language": "python",
   "name": "python3"
  },
  "language_info": {
   "codemirror_mode": {
    "name": "ipython",
    "version": 3
   },
   "file_extension": ".py",
   "mimetype": "text/x-python",
   "name": "python",
   "nbconvert_exporter": "python",
   "pygments_lexer": "ipython3",
   "version": "3.7.3"
  }
 },
 "nbformat": 4,
 "nbformat_minor": 2
}
