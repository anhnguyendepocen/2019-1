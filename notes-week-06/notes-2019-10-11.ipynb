{
 "cells": [
  {
   "cell_type": "markdown",
   "metadata": {},
   "source": [
    "# MATH 210 Introduction to Mathematical Computing\n",
    "\n",
    "## October 11, 2019\n",
    "\n",
    "* Trapezoid rule\n",
    "* Error fomrulas"
   ]
  },
  {
   "cell_type": "code",
   "execution_count": 1,
   "metadata": {},
   "outputs": [],
   "source": [
    "import numpy as np\n",
    "import matplotlib.pyplot as plt"
   ]
  },
  {
   "cell_type": "markdown",
   "metadata": {},
   "source": [
    "Approximate the [logarithmic integral](https://en.wikipedia.org/wiki/Logarithmic_integral_function) by trapezoid rule\n",
    "\n",
    "$$\n",
    "\\int_2^{10} \\frac{1}{\\ln x} dx\n",
    "$$"
   ]
  },
  {
   "cell_type": "markdown",
   "metadata": {},
   "source": [
    "We know the error formula\n",
    "\n",
    "$$\n",
    "E_N^T(f) \\leq \\frac{(b - a)^3 K_2}{12N^2}\n",
    "$$\n",
    "\n",
    "where $|f''(x)| \\leq K_2$ for all $x \\in [a,b]$."
   ]
  },
  {
   "cell_type": "markdown",
   "metadata": {},
   "source": [
    "We compute\n",
    "\n",
    "$$\n",
    "f''(x) = \\frac{\\ln x + 2}{x^2 \\ln(x)^3}\n",
    "$$"
   ]
  },
  {
   "cell_type": "code",
   "execution_count": 2,
   "metadata": {},
   "outputs": [
    {
     "data": {
      "image/png": "[encoded data removed]",
      "text/plain": [
       "<Figure size 432x288 with 1 Axes>"
      ]
     },
     "metadata": {
      "needs_background": "light"
     },
     "output_type": "display_data"
    }
   ],
   "source": [
    "x = np.linspace(2,10,100)\n",
    "y = (np.log(x) + 2)/(x**2*np.log(x)**3)\n",
    "plt.plot(x,y)\n",
    "plt.grid(True)\n",
    "plt.show()"
   ]
  },
  {
   "cell_type": "markdown",
   "metadata": {},
   "source": [
    "The maximum occurs at the left endpoint"
   ]
  },
  {
   "cell_type": "code",
   "execution_count": 3,
   "metadata": {},
   "outputs": [
    {
     "name": "stdout",
     "output_type": "stream",
     "text": [
      "2.021732598829855\n"
     ]
    }
   ],
   "source": [
    "K2 = (np.log(2) + 2)/(2**2*np.log(2)**3)\n",
    "print(K2)"
   ]
  },
  {
   "cell_type": "markdown",
   "metadata": {},
   "source": [
    "Find a value $N$ such that $E_N^T(f) \\leq 0.0001$."
   ]
  },
  {
   "cell_type": "code",
   "execution_count": 4,
   "metadata": {},
   "outputs": [
    {
     "name": "stdout",
     "output_type": "stream",
     "text": [
      "929\n"
     ]
    }
   ],
   "source": [
    "b = 10\n",
    "a = 2\n",
    "N = int(np.ceil(np.sqrt((b - a)**3*K2/12/0.0001)))\n",
    "print(N)"
   ]
  },
  {
   "cell_type": "markdown",
   "metadata": {},
   "source": [
    "We need a partition of length $N = 929$ to approximate $\\text{Li}(10)$."
   ]
  },
  {
   "cell_type": "code",
   "execution_count": 5,
   "metadata": {},
   "outputs": [
    {
     "name": "stdout",
     "output_type": "stream",
     "text": [
      "5.120442039184057\n"
     ]
    }
   ],
   "source": [
    "x = np.linspace(a,b,N+1)\n",
    "y = 1/np.log(x)\n",
    "dx = (b - a)/N\n",
    "I = dx/2 * np.sum(y[1:] + y[:-1])\n",
    "print(I)"
   ]
  }
 ],
 "metadata": {
  "kernelspec": {
   "display_name": "Python 3",
   "language": "python",
   "name": "python3"
  },
  "language_info": {
   "codemirror_mode": {
    "name": "ipython",
    "version": 3
   },
   "file_extension": ".py",
   "mimetype": "text/x-python",
   "name": "python",
   "nbconvert_exporter": "python",
   "pygments_lexer": "ipython3",
   "version": "3.7.3"
  }
 },
 "nbformat": 4,
 "nbformat_minor": 2
}
