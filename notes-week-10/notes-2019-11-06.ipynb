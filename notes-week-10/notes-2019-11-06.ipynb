{
 "cells": [
  {
   "cell_type": "markdown",
   "metadata": {},
   "source": [
    "# MATH 210 Introduction to Mathematical Computing\n",
    "\n",
    "## November 6, 2019\n",
    "\n",
    "* Diagonalization\n",
    "* Simple, undirected graphs"
   ]
  },
  {
   "cell_type": "code",
   "execution_count": 1,
   "metadata": {},
   "outputs": [],
   "source": [
    "import numpy as np\n",
    "import scipy.linalg as la\n",
    "import matplotlib.pyplot as plt"
   ]
  },
  {
   "cell_type": "markdown",
   "metadata": {},
   "source": [
    "If a square matrix $A$ of size $n$ has $n$ distinct real eigenvalues $\\lambda_0,\\dots,\\lambda_{n-1}$, then $A$ has $n$ independent eigenvectors $\\mathbf{v}_0,\\dots,\\mathbf{v}_{n-1}$ and the matrix is [diagonalizable](https://en.wikipedia.org/wiki/Diagonalizable_matrix):\n",
    "\n",
    "$$\n",
    "A = PDP^{-1}\n",
    "$$\n",
    "\n",
    "where $P = [\\mathbf{v}_0 \\ \\cdots \\ \\mathbf{v}_{n-1}]$ and $D = \\mathrm{diag}[\\lambda_0 \\ \\cdots \\ \\lambda_{n-1}]$.\n",
    "\n",
    "One of the main applications of diagonalization is the formula $A^k = PD^kP^{-1}$."
   ]
  },
  {
   "cell_type": "markdown",
   "metadata": {},
   "source": [
    "Given the matrix\n",
    "\n",
    "$$\n",
    "a = \\begin{bmatrix}\n",
    "0.9 & 0.2 \\\\\n",
    "0.1 & 0.8\n",
    "\\end{bmatrix}\n",
    "$$\n",
    "\n",
    "compute $\\lim_{k \\to \\infty} A^k$."
   ]
  },
  {
   "cell_type": "code",
   "execution_count": 2,
   "metadata": {},
   "outputs": [],
   "source": [
    "A = np.array([[0.9,0.2],[0.1,0.8]])"
   ]
  },
  {
   "cell_type": "code",
   "execution_count": 3,
   "metadata": {},
   "outputs": [],
   "source": [
    "evals, evecs = la.eig(A)"
   ]
  },
  {
   "cell_type": "code",
   "execution_count": 4,
   "metadata": {},
   "outputs": [],
   "source": [
    "evals = np.real(evals)"
   ]
  },
  {
   "cell_type": "code",
   "execution_count": 5,
   "metadata": {},
   "outputs": [
    {
     "name": "stdout",
     "output_type": "stream",
     "text": [
      "[1.  0.7]\n"
     ]
    }
   ],
   "source": [
    "print(evals)"
   ]
  },
  {
   "cell_type": "code",
   "execution_count": 6,
   "metadata": {},
   "outputs": [
    {
     "name": "stdout",
     "output_type": "stream",
     "text": [
      "[[ 0.89442719 -0.70710678]\n",
      " [ 0.4472136   0.70710678]]\n"
     ]
    }
   ],
   "source": [
    "print(evecs)"
   ]
  },
  {
   "cell_type": "markdown",
   "metadata": {},
   "source": [
    "To compute the limit $A^k$ as $k \\to \\infty$, we compute"
   ]
  },
  {
   "cell_type": "code",
   "execution_count": 7,
   "metadata": {},
   "outputs": [],
   "source": [
    "P = evecs"
   ]
  },
  {
   "cell_type": "code",
   "execution_count": 8,
   "metadata": {},
   "outputs": [],
   "source": [
    "Dinf = np.array([[1,0],[0,0]])"
   ]
  },
  {
   "cell_type": "code",
   "execution_count": 9,
   "metadata": {},
   "outputs": [
    {
     "data": {
      "text/plain": [
       "array([[0.66666667, 0.66666667],\n",
       "       [0.33333333, 0.33333333]])"
      ]
     },
     "execution_count": 9,
     "metadata": {},
     "output_type": "execute_result"
    }
   ],
   "source": [
    "P@Dinf@la.inv(P)"
   ]
  },
  {
   "cell_type": "markdown",
   "metadata": {},
   "source": [
    "## Simple, Undirected Graphs\n",
    "\n",
    "A great source of simple and interesting matrices is the [adjacency matrix](https://en.wikipedia.org/wiki/Adjacency_matrix) of a simple undirected graphs.\n",
    "\n",
    "The package [networkx](https://networkx.github.io) is great for working with graphs."
   ]
  },
  {
   "cell_type": "code",
   "execution_count": 10,
   "metadata": {},
   "outputs": [],
   "source": [
    "import networkx as nx"
   ]
  },
  {
   "cell_type": "code",
   "execution_count": 12,
   "metadata": {},
   "outputs": [
    {
     "data": {
      "image/png": "[encoded data removed]",
      "text/plain": [
       "<Figure size 432x288 with 1 Axes>"
      ]
     },
     "metadata": {},
     "output_type": "display_data"
    }
   ],
   "source": [
    "G = nx.ladder_graph(5)\n",
    "nx.draw(G)"
   ]
  },
  {
   "cell_type": "code",
   "execution_count": 13,
   "metadata": {},
   "outputs": [
    {
     "data": {
      "text/plain": [
       "matrix([[0, 1, 0, 0, 0, 1, 0, 0, 0, 0],\n",
       "        [1, 0, 1, 0, 0, 0, 1, 0, 0, 0],\n",
       "        [0, 1, 0, 1, 0, 0, 0, 1, 0, 0],\n",
       "        [0, 0, 1, 0, 1, 0, 0, 0, 1, 0],\n",
       "        [0, 0, 0, 1, 0, 0, 0, 0, 0, 1],\n",
       "        [1, 0, 0, 0, 0, 0, 1, 0, 0, 0],\n",
       "        [0, 1, 0, 0, 0, 1, 0, 1, 0, 0],\n",
       "        [0, 0, 1, 0, 0, 0, 1, 0, 1, 0],\n",
       "        [0, 0, 0, 1, 0, 0, 0, 1, 0, 1],\n",
       "        [0, 0, 0, 0, 1, 0, 0, 0, 1, 0]], dtype=int64)"
      ]
     },
     "execution_count": 13,
     "metadata": {},
     "output_type": "execute_result"
    }
   ],
   "source": [
    "nx.adjacency_matrix(G).todense()"
   ]
  }
 ],
 "metadata": {
  "kernelspec": {
   "display_name": "Python 3",
   "language": "python",
   "name": "python3"
  },
  "language_info": {
   "codemirror_mode": {
    "name": "ipython",
    "version": 3
   },
   "file_extension": ".py",
   "mimetype": "text/x-python",
   "name": "python",
   "nbconvert_exporter": "python",
   "pygments_lexer": "ipython3",
   "version": "3.7.3"
  }
 },
 "nbformat": 4,
 "nbformat_minor": 2
}
