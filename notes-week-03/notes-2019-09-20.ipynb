{
 "cells": [
  {
   "cell_type": "markdown",
   "metadata": {},
   "source": [
    "# MATH 210 Introduction to Mathematical Computing\n",
    "\n",
    "## September 20, 2019\n",
    "\n",
    "* Comments and Indentation\n",
    "* `for` Loops"
   ]
  },
  {
   "cell_type": "markdown",
   "metadata": {},
   "source": [
    "## Comments and Indentation\n",
    "\n",
    "We write comments in Python programs using the has symbol `#`. Comments are text that are ignored by Python. We use comments to explain our code to make it easy for others to read and to use. Comments appear inside the program. This is different from the documentation string which appears at the top of the function under the `def` statement and is the official documentation of the function.\n",
    "\n",
    "And recall indentation defines the different blocks of code in our programs.\n",
    "\n",
    "Let's look at the example on [area of a triangle](http://www.math.ubc.ca/~pwalls/math-python/python/functions/#area-of-a-triangle)."
   ]
  },
  {
   "cell_type": "code",
   "execution_count": 1,
   "metadata": {},
   "outputs": [],
   "source": [
    "def area_triangle(vertices):\n",
    "    '''Compute the area of the triangle with given vertices.\n",
    "\n",
    "    Parameters\n",
    "    ----------\n",
    "    vertices : list of tuples of numbers\n",
    "        The vertices of a triangle [(x1,y1),(x2,y2),(x3,y3)].\n",
    "\n",
    "    Returns\n",
    "    -------\n",
    "    float\n",
    "        Area of the triangle computed by Heron's formula.\n",
    "\n",
    "    Examples\n",
    "    --------\n",
    "    >>> area_triangle([(0,0),(3,0),(3,4)])\n",
    "    6.0\n",
    "    >>> area_triangle([(-1,2),(-3,-1),(4,1)])\n",
    "    8.499999999999996\n",
    "    '''\n",
    "    # Find the x distance between vertices 0 and 1\n",
    "    a_x = abs(vertices[0][0] - vertices[1][0])\n",
    "    # Find the y distance between vertices 0 and 1\n",
    "    a_y = abs(vertices[0][1] - vertices[1][1])\n",
    "    # Compute length of side a\n",
    "    a = (a_x**2 + a_y**2)**0.5\n",
    "\n",
    "    # Find the x distance between vertices 1 and 2\n",
    "    b_x = abs(vertices[1][0] - vertices[2][0])\n",
    "    # Find the y distance between vertices 1 and 2\n",
    "    b_y = abs(vertices[1][1] - vertices[2][1])\n",
    "    # Compute length of side b\n",
    "    b = (b_x**2 + b_y**2)**0.5\n",
    "\n",
    "    # Find the x distance between vertices 0 and 2\n",
    "    c_x = abs(vertices[0][0] - vertices[2][0])\n",
    "    # Find the y distance between vertices 0 and 2\n",
    "    c_y = abs(vertices[0][1] - vertices[2][1])\n",
    "    # Compute length of side c\n",
    "    c = (c_x**2 + c_y**2)**0.5\n",
    "\n",
    "    # Compute semiperimeter\n",
    "    s = (a + b + c)/2\n",
    "    # Compute area\n",
    "    area = (s*(s - a)*(s - b)*(s - c))**0.5\n",
    "\n",
    "    return area"
   ]
  },
  {
   "cell_type": "code",
   "execution_count": 2,
   "metadata": {},
   "outputs": [
    {
     "data": {
      "text/plain": [
       "1.0000000000000029"
      ]
     },
     "execution_count": 2,
     "metadata": {},
     "output_type": "execute_result"
    }
   ],
   "source": [
    "area_triangle([(1,3),(-2,5),(3,1)])"
   ]
  },
  {
   "cell_type": "markdown",
   "metadata": {},
   "source": [
    "## Loops\n",
    "\n",
    "A `for` loop is a block that will execute multiple times as a variable iterates over a sequence. For example, we can print the list of squares up to 100."
   ]
  },
  {
   "cell_type": "code",
   "execution_count": 3,
   "metadata": {},
   "outputs": [
    {
     "name": "stdout",
     "output_type": "stream",
     "text": [
      "1\n",
      "4\n",
      "9\n",
      "16\n",
      "25\n",
      "36\n",
      "49\n",
      "64\n",
      "81\n",
      "100\n",
      "All done!\n"
     ]
    }
   ],
   "source": [
    "for n in range(1,11):\n",
    "    # Print the square n**2\n",
    "    print(n**2)\n",
    "\n",
    "# Outside the loop\n",
    "print('All done!')"
   ]
  },
  {
   "cell_type": "markdown",
   "metadata": {},
   "source": [
    "Note that the unindentation (that is, the code returns the same indentation as the `for` keyword) signals the end of the `for` loop block."
   ]
  },
  {
   "cell_type": "markdown",
   "metadata": {},
   "source": [
    "Let's use a `for` and the list method `append` to build the list of squares."
   ]
  },
  {
   "cell_type": "code",
   "execution_count": 4,
   "metadata": {},
   "outputs": [
    {
     "name": "stdout",
     "output_type": "stream",
     "text": [
      "[1, 4, 9, 16, 25, 36, 49, 64, 81, 100]\n"
     ]
    }
   ],
   "source": [
    "squares = []\n",
    "for n in range(1,11):\n",
    "    squares.append(n**2)\n",
    "print(squares)"
   ]
  },
  {
   "cell_type": "markdown",
   "metadata": {},
   "source": [
    "A list comprehension is fancy Python syntax to do the above in 1 line!"
   ]
  },
  {
   "cell_type": "code",
   "execution_count": 5,
   "metadata": {},
   "outputs": [
    {
     "name": "stdout",
     "output_type": "stream",
     "text": [
      "[1, 4, 9, 16, 25, 36, 49, 64, 81, 100]\n"
     ]
    }
   ],
   "source": [
    "squares = [n**2 for n in range(1,11)]\n",
    "print(squares)"
   ]
  },
  {
   "cell_type": "markdown",
   "metadata": {},
   "source": [
    "The list method `.append` is a function that acts on the list on which it is called. There are many [list methods](https://docs.python.org/3/tutorial/datastructures.html)! For example, `.reverse` below. But we won't get into list methods now."
   ]
  },
  {
   "cell_type": "code",
   "execution_count": 6,
   "metadata": {},
   "outputs": [],
   "source": [
    "squares.reverse()"
   ]
  },
  {
   "cell_type": "code",
   "execution_count": 7,
   "metadata": {},
   "outputs": [
    {
     "data": {
      "text/plain": [
       "[100, 81, 64, 49, 36, 25, 16, 9, 4, 1]"
      ]
     },
     "execution_count": 7,
     "metadata": {},
     "output_type": "execute_result"
    }
   ],
   "source": [
    "squares"
   ]
  },
  {
   "cell_type": "markdown",
   "metadata": {},
   "source": [
    "Why don't we always use list comprehensions to create sequences? List comprehensions only work for sequences with an **explicit formula** for $x_n$ in terms of $n$. Doesn't work for recursive sequences."
   ]
  },
  {
   "cell_type": "markdown",
   "metadata": {},
   "source": [
    "The most famous recursive sequence is the Fibonacci sequence:\n",
    "\n",
    "$$\n",
    "x_0 = 1 \\ , \\ \\ x_1 = 1 \\ , \\ \\ x_{n+2} = x_{n+1} + x_n\n",
    "$$\n",
    "\n",
    "which is\n",
    "\n",
    "$$\n",
    "1,1,2,3,5,8,13,21,34,...\n",
    "$$"
   ]
  },
  {
   "cell_type": "markdown",
   "metadata": {},
   "source": [
    "Let's write a function called `fibonacci` which takes 1 input parameter `N` and returns the Fibonacci sequence up to $x_N$ (ie. of length $N+1$)."
   ]
  },
  {
   "cell_type": "code",
   "execution_count": 8,
   "metadata": {},
   "outputs": [],
   "source": [
    "def fibonacci(N):\n",
    "    fibs = [1,1]\n",
    "    for n in range(2,N+1):\n",
    "        next_fib = fibs[n-1] + fibs[n-2]\n",
    "        fibs.append(next_fib)\n",
    "    return fibs"
   ]
  },
  {
   "cell_type": "code",
   "execution_count": 9,
   "metadata": {},
   "outputs": [
    {
     "data": {
      "text/plain": [
       "[1, 1, 2, 3, 5, 8, 13, 21, 34, 55, 89, 144, 233]"
      ]
     },
     "execution_count": 9,
     "metadata": {},
     "output_type": "execute_result"
    }
   ],
   "source": [
    "fibonacci(12)"
   ]
  },
  {
   "cell_type": "markdown",
   "metadata": {},
   "source": [
    "What is the 37th Fibonacci number $x_{37}$?"
   ]
  },
  {
   "cell_type": "code",
   "execution_count": 10,
   "metadata": {},
   "outputs": [
    {
     "name": "stdout",
     "output_type": "stream",
     "text": [
      "39088169\n"
     ]
    }
   ],
   "source": [
    "result = fibonacci(37)\n",
    "print(result[-1])"
   ]
  },
  {
   "cell_type": "markdown",
   "metadata": {},
   "source": [
    "Approximate the limit\n",
    "$$\n",
    "\\lim_{n \\to \\infty} \\frac{x_{n+1}}{x_n}\n",
    "$$"
   ]
  },
  {
   "cell_type": "code",
   "execution_count": 11,
   "metadata": {},
   "outputs": [
    {
     "data": {
      "text/plain": [
       "1.618033988749894"
      ]
     },
     "execution_count": 11,
     "metadata": {},
     "output_type": "execute_result"
    }
   ],
   "source": [
    "result2 = fibonacci(37)\n",
    "result1 = fibonacci(36)\n",
    "result2[-1]/result1[-1]"
   ]
  },
  {
   "cell_type": "markdown",
   "metadata": {},
   "source": [
    "It's the Golden Ratio!"
   ]
  }
 ],
 "metadata": {
  "kernelspec": {
   "display_name": "Python 3",
   "language": "python",
   "name": "python3"
  },
  "language_info": {
   "codemirror_mode": {
    "name": "ipython",
    "version": 3
   },
   "file_extension": ".py",
   "mimetype": "text/x-python",
   "name": "python",
   "nbconvert_exporter": "python",
   "pygments_lexer": "ipython3",
   "version": "3.7.3"
  }
 },
 "nbformat": 4,
 "nbformat_minor": 2
}
