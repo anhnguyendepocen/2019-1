{
 "cells": [
  {
   "cell_type": "markdown",
   "metadata": {},
   "source": [
    "# MATH 210 Introduction to Mathematical Computing\n",
    "\n",
    "## September 16, 2019\n",
    "\n",
    "1. Defining functions\n",
    "2. Example: `poly_eval`"
   ]
  },
  {
   "cell_type": "markdown",
   "metadata": {},
   "source": [
    "## 1. Defining functions\n",
    "\n",
    "Let's do a simple example. Let's write a function called `average` that takes 1 input parameter `samples`, a sequence of numbers, and returns the average."
   ]
  },
  {
   "cell_type": "code",
   "execution_count": 1,
   "metadata": {},
   "outputs": [],
   "source": [
    "def average(samples):\n",
    "    \"Compute the average of the numbers in samples.\"\n",
    "    return sum(samples) / len(samples)"
   ]
  },
  {
   "cell_type": "markdown",
   "metadata": {},
   "source": [
    "The main points to observe are:\n",
    "\n",
    "1. Start the function definition with the `def` keyword.\n",
    "2. Follow `def` with the name of the function.\n",
    "3. Follow the function name with the list of input parameters separated by commas and within parentheses.\n",
    "4. End the def statement with a colon `:`.\n",
    "5. Indent the body of the function by 4 spaces.\n",
    "6. Use the `return` keyword to specify the output of the function (but it is not always necessary).\n",
    "7. The second line is a documentation string (enclosed in quotation marks \" ... \") which describes the function."
   ]
  },
  {
   "cell_type": "markdown",
   "metadata": {},
   "source": [
    "We can see the documentation string using the `help` function."
   ]
  },
  {
   "cell_type": "code",
   "execution_count": 2,
   "metadata": {},
   "outputs": [
    {
     "name": "stdout",
     "output_type": "stream",
     "text": [
      "Help on function average in module __main__:\n",
      "\n",
      "average(samples)\n",
      "    Compute the average of the numbers in samples.\n",
      "\n"
     ]
    }
   ],
   "source": [
    "help(average)"
   ]
  },
  {
   "cell_type": "markdown",
   "metadata": {},
   "source": [
    "Test our function with simple input. If `samples=[1,2,6]` then the output should be `3.0`."
   ]
  },
  {
   "cell_type": "code",
   "execution_count": 3,
   "metadata": {},
   "outputs": [
    {
     "data": {
      "text/plain": [
       "3.0"
      ]
     },
     "execution_count": 3,
     "metadata": {},
     "output_type": "execute_result"
    }
   ],
   "source": [
    "average([1,2,6])"
   ]
  },
  {
   "cell_type": "markdown",
   "metadata": {},
   "source": [
    "**Be careful!** There is a *big* difference between printing output and returning output. Consider this function:"
   ]
  },
  {
   "cell_type": "code",
   "execution_count": 4,
   "metadata": {},
   "outputs": [],
   "source": [
    "def print_average(samples):\n",
    "    \"Compute the average of the numbers in samples.\"\n",
    "    print(sum(samples) / len(samples))"
   ]
  },
  {
   "cell_type": "markdown",
   "metadata": {},
   "source": [
    "What's the difference between these functions?"
   ]
  },
  {
   "cell_type": "code",
   "execution_count": 5,
   "metadata": {},
   "outputs": [
    {
     "data": {
      "text/plain": [
       "3.0"
      ]
     },
     "execution_count": 5,
     "metadata": {},
     "output_type": "execute_result"
    }
   ],
   "source": [
    "average([1,2,6])"
   ]
  },
  {
   "cell_type": "code",
   "execution_count": 6,
   "metadata": {},
   "outputs": [
    {
     "name": "stdout",
     "output_type": "stream",
     "text": [
      "3.0\n"
     ]
    }
   ],
   "source": [
    "print_average([1,2,6])"
   ]
  },
  {
   "cell_type": "markdown",
   "metadata": {},
   "source": [
    "They seem to do the same thing except..."
   ]
  },
  {
   "cell_type": "code",
   "execution_count": 7,
   "metadata": {},
   "outputs": [
    {
     "name": "stdout",
     "output_type": "stream",
     "text": [
      "3.0\n"
     ]
    }
   ],
   "source": [
    "a1 = average([1,2,6])\n",
    "print(a1)"
   ]
  },
  {
   "cell_type": "code",
   "execution_count": 8,
   "metadata": {},
   "outputs": [
    {
     "name": "stdout",
     "output_type": "stream",
     "text": [
      "3.0\n",
      "None\n"
     ]
    }
   ],
   "source": [
    "a2 = print_average([1,2,6])\n",
    "print(a2)"
   ]
  },
  {
   "cell_type": "markdown",
   "metadata": {},
   "source": [
    "Nothing (ie. the `None` value) comes out of the function `print_average`. We have to use the `return` keyword to return a value from our function!"
   ]
  },
  {
   "cell_type": "markdown",
   "metadata": {},
   "source": [
    "## 2. Example\n",
    "\n",
    "Represent a polynomial\n",
    "\n",
    "$$\n",
    "p(x) = c_0 + c_1 x + c_2 x^2 + \\cdots + c_d x^d\n",
    "$$\n",
    "\n",
    "as a list of coefficients `p = [c0,c1,c2,...,cd]`. Write a function called `poly_eval` which takes 2 input parameters `p` (a list representing a polynomial) and `a`  (a number) and return the value $p(a)$. For example, `p([1,1,1],2)` returns `7` since $p(2)=7$ for $p(x)=1+x+x^2$."
   ]
  },
  {
   "cell_type": "markdown",
   "metadata": {},
   "source": [
    "Start with a stub: a function which takes the correct number of inputs and returns the correct datatype. This give us at least a place to start."
   ]
  },
  {
   "cell_type": "code",
   "execution_count": 9,
   "metadata": {},
   "outputs": [],
   "source": [
    "def poly_eval(p,a):\n",
    "    return 0"
   ]
  },
  {
   "cell_type": "markdown",
   "metadata": {},
   "source": [
    "Then we start adding to our function to solve the problem."
   ]
  },
  {
   "cell_type": "markdown",
   "metadata": {},
   "source": [
    "Note that the return value is\n",
    "\n",
    "$$\n",
    "p(a) = \\sum_{n=0}^{d} c_n a^n\n",
    "$$\n",
    "\n",
    "We can use a list comprehension and the `sum` function to do this!"
   ]
  },
  {
   "cell_type": "code",
   "execution_count": 10,
   "metadata": {},
   "outputs": [],
   "source": [
    "def poly_eval(p,a):\n",
    "    \"Evaluate the polynomial p(x) at x=a.\"\n",
    "    terms = [p[n]*a**n for n in range(0,len(p))]\n",
    "    return sum(terms)"
   ]
  },
  {
   "cell_type": "markdown",
   "metadata": {},
   "source": [
    "Write some tests:"
   ]
  },
  {
   "cell_type": "code",
   "execution_count": 11,
   "metadata": {},
   "outputs": [
    {
     "data": {
      "text/plain": [
       "7"
      ]
     },
     "execution_count": 11,
     "metadata": {},
     "output_type": "execute_result"
    }
   ],
   "source": [
    "# Answer should be 7 when p = [1,1,1] and a = 2\n",
    "poly_eval([1,1,1],2)"
   ]
  },
  {
   "cell_type": "code",
   "execution_count": 12,
   "metadata": {},
   "outputs": [
    {
     "data": {
      "text/plain": [
       "-1"
      ]
     },
     "execution_count": 12,
     "metadata": {},
     "output_type": "execute_result"
    }
   ],
   "source": [
    "# Answer should be -1 when p = [0,2,0,-1] and a = -1\n",
    "poly_eval([0,2,0,-1],-1)"
   ]
  },
  {
   "cell_type": "code",
   "execution_count": 13,
   "metadata": {},
   "outputs": [
    {
     "name": "stdout",
     "output_type": "stream",
     "text": [
      "Help on function poly_eval in module __main__:\n",
      "\n",
      "poly_eval(p, a)\n",
      "    Evaluate the polynomial p(x) at x=a.\n",
      "\n"
     ]
    }
   ],
   "source": [
    "help(poly_eval)"
   ]
  },
  {
   "cell_type": "markdown",
   "metadata": {},
   "source": [
    "In the assignment, there is a question to write a function to compute\n",
    "\n",
    "$$\n",
    "\\int_a^b p(x) dx\n",
    "$$\n",
    "\n",
    "How do we use `poly_eval` in that function? We know that\n",
    "\n",
    "$$\n",
    "\\int_a^b p(x) dx = P(b) - P(a)\n",
    "$$\n",
    "\n",
    "where $P(x)$ is an anti-derviative of $p(x)$. How do you compute $P(x)$?"
   ]
  },
  {
   "cell_type": "markdown",
   "metadata": {},
   "source": [
    "For example, if `p = [1,1]` then `P = [0,1,1/2]`."
   ]
  }
 ],
 "metadata": {
  "kernelspec": {
   "display_name": "Python 3",
   "language": "python",
   "name": "python3"
  },
  "language_info": {
   "codemirror_mode": {
    "name": "ipython",
    "version": 3
   },
   "file_extension": ".py",
   "mimetype": "text/x-python",
   "name": "python",
   "nbconvert_exporter": "python",
   "pygments_lexer": "ipython3",
   "version": "3.7.3"
  }
 },
 "nbformat": 4,
 "nbformat_minor": 2
}
