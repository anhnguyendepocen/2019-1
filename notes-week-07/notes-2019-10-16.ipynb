{
 "cells": [
  {
   "cell_type": "markdown",
   "metadata": {},
   "source": [
    "# MATH 210 Introduction to Mathematical Computing\n",
    "\n",
    "## October 16, 2019\n",
    "\n",
    "* Examples: numerical integration\n",
    "* SciPy functions"
   ]
  },
  {
   "cell_type": "code",
   "execution_count": 1,
   "metadata": {},
   "outputs": [],
   "source": [
    "import numpy as np\n",
    "import matplotlib.pyplot as plt"
   ]
  },
  {
   "cell_type": "markdown",
   "metadata": {},
   "source": [
    "Consider the integral\n",
    "\n",
    "$$\n",
    "\\int_e^{10} \\ln (\\ln x) \\, dx\n",
    "$$\n",
    "\n",
    "Find a value $N$ which guarantees the error for right Riemann sums $E_N^R(f)$ is less than $10^{-5}$. We need the error formula\n",
    "\n",
    "$$\n",
    "E_N^R(f) \\leq \\frac{(b - a)^2}{2N} K_1\n",
    "$$\n",
    "\n",
    "where $|f'(x)| \\leq K_1$ for all $x \\in [a,b]$. We compute\n",
    "\n",
    "$$\n",
    "f'(x) = \\frac{1}{x \\ln x}\n",
    "$$"
   ]
  },
  {
   "cell_type": "code",
   "execution_count": 2,
   "metadata": {},
   "outputs": [
    {
     "data": {
      "image/png": "[encoded data removed]",
      "text/plain": [
       "<Figure size 432x288 with 1 Axes>"
      ]
     },
     "metadata": {
      "needs_background": "light"
     },
     "output_type": "display_data"
    }
   ],
   "source": [
    "x = np.linspace(np.e,10,100)\n",
    "y = 1/(np.log(x)*x)\n",
    "plt.plot(x,y)\n",
    "plt.show()"
   ]
  },
  {
   "cell_type": "markdown",
   "metadata": {},
   "source": [
    "We see that $K_1 = 1/e$ therefore"
   ]
  },
  {
   "cell_type": "code",
   "execution_count": 3,
   "metadata": {},
   "outputs": [
    {
     "name": "stdout",
     "output_type": "stream",
     "text": [
      "975311.297280164\n"
     ]
    }
   ],
   "source": [
    "N = (10 - np.e)**2*10**5/(2*np.e)\n",
    "print(N)"
   ]
  },
  {
   "cell_type": "markdown",
   "metadata": {},
   "source": [
    "Find a value $N$ which guarantees the error for the trapezoid rule $E_N^T(f)$ is less than $10^{-5}$. We need the error formula\n",
    "\n",
    "$$\n",
    "E_N^T(f) \\leq \\frac{(b - a)^3}{12N^2} K_2\n",
    "$$\n",
    "\n",
    "where $|f''(x)| \\leq K_2$ for all $x \\in [a,b]$. We compute\n",
    "\n",
    "$$\n",
    "f''(x) = - \\frac{(1 + \\ln x)}{(x \\ln x)^2}\n",
    "$$"
   ]
  },
  {
   "cell_type": "code",
   "execution_count": 4,
   "metadata": {},
   "outputs": [
    {
     "data": {
      "image/png": "[encoded data removed]",
      "text/plain": [
       "<Figure size 432x288 with 1 Axes>"
      ]
     },
     "metadata": {
      "needs_background": "light"
     },
     "output_type": "display_data"
    }
   ],
   "source": [
    "x = np.linspace(np.e,10,100)\n",
    "y = -(np.log(x) + 1)/(np.log(x)*x)**2\n",
    "plt.plot(x,y)\n",
    "plt.show()"
   ]
  },
  {
   "cell_type": "markdown",
   "metadata": {},
   "source": [
    "We see that $K_2 = 2/e$ therefore"
   ]
  },
  {
   "cell_type": "code",
   "execution_count": 5,
   "metadata": {},
   "outputs": [
    {
     "data": {
      "text/plain": [
       "933.2128111772521"
      ]
     },
     "execution_count": 5,
     "metadata": {},
     "output_type": "execute_result"
    }
   ],
   "source": [
    "np.sqrt((10 - np.e)**3*10**5/(6*np.e**2))"
   ]
  },
  {
   "cell_type": "markdown",
   "metadata": {},
   "source": [
    "## SciPy\n",
    "\n",
    "[SciPy](https://scipy.org) contains subpackages for many numerical applciations. Let's import the `scipy.integrate` subpackage."
   ]
  },
  {
   "cell_type": "code",
   "execution_count": 6,
   "metadata": {},
   "outputs": [],
   "source": [
    "import scipy.integrate as spi"
   ]
  },
  {
   "cell_type": "markdown",
   "metadata": {},
   "source": [
    "There are several functions for [computing integrals](https://docs.scipy.org/doc/scipy/reference/integrate.html) including a function to implement the trapezoid rule. Let's check the documentation."
   ]
  },
  {
   "cell_type": "code",
   "execution_count": 7,
   "metadata": {},
   "outputs": [],
   "source": [
    "spi.trapz?"
   ]
  },
  {
   "cell_type": "markdown",
   "metadata": {},
   "source": [
    "Let's use this function to approximate the integral above with error less than $10^{-5}$."
   ]
  },
  {
   "cell_type": "code",
   "execution_count": 8,
   "metadata": {},
   "outputs": [
    {
     "name": "stdout",
     "output_type": "stream",
     "text": [
      "4.069841120660495\n"
     ]
    }
   ],
   "source": [
    "N = 934\n",
    "a = np.e\n",
    "b = 10\n",
    "x = np.linspace(a,b,N+1)\n",
    "y = np.log(np.log(x))\n",
    "I = spi.trapz(y,x)\n",
    "print(I)"
   ]
  },
  {
   "cell_type": "markdown",
   "metadata": {},
   "source": [
    "Let's compare our own method."
   ]
  },
  {
   "cell_type": "code",
   "execution_count": 9,
   "metadata": {},
   "outputs": [
    {
     "name": "stdout",
     "output_type": "stream",
     "text": [
      "4.069841120660496\n"
     ]
    }
   ],
   "source": [
    "dx = (b - a)/N\n",
    "I = dx/2*np.sum(y[1:] + y[:-1])\n",
    "print(I)"
   ]
  },
  {
   "cell_type": "markdown",
   "metadata": {},
   "source": [
    "It's the same except for the last digit which is due to a different rounding error in both computations.\n",
    "\n",
    "Let's look at the function which implements Simpson's rule."
   ]
  },
  {
   "cell_type": "code",
   "execution_count": 10,
   "metadata": {},
   "outputs": [],
   "source": [
    "spi.simps?"
   ]
  },
  {
   "cell_type": "markdown",
   "metadata": {},
   "source": [
    "Simpson's rule performs better than the trapezoid rule. Let's compute the integral above with the same $N$."
   ]
  },
  {
   "cell_type": "code",
   "execution_count": 11,
   "metadata": {},
   "outputs": [
    {
     "data": {
      "text/plain": [
       "4.069842764041077"
      ]
     },
     "execution_count": 11,
     "metadata": {},
     "output_type": "execute_result"
    }
   ],
   "source": [
    "spi.simps(y,x)"
   ]
  },
  {
   "cell_type": "markdown",
   "metadata": {},
   "source": [
    "Notice that the first 5 digits are the same in both approximations. This is what we expect since we know that the trapezoid rule approximation is exact up to $10^{-5}$."
   ]
  }
 ],
 "metadata": {
  "kernelspec": {
   "display_name": "Python 3",
   "language": "python",
   "name": "python3"
  },
  "language_info": {
   "codemirror_mode": {
    "name": "ipython",
    "version": 3
   },
   "file_extension": ".py",
   "mimetype": "text/x-python",
   "name": "python",
   "nbconvert_exporter": "python",
   "pygments_lexer": "ipython3",
   "version": "3.7.3"
  }
 },
 "nbformat": 4,
 "nbformat_minor": 2
}
