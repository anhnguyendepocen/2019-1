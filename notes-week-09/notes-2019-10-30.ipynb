{
 "cells": [
  {
   "cell_type": "markdown",
   "metadata": {},
   "source": [
    "# MATH 210 Introduction to Mathematical Computing\n",
    "\n",
    "## October 30, 2019\n",
    "\n",
    "* Solving systems of equations with Gaussian elimination\n",
    "* Application: interpolation"
   ]
  },
  {
   "cell_type": "code",
   "execution_count": 1,
   "metadata": {},
   "outputs": [],
   "source": [
    "import numpy as np\n",
    "import scipy.linalg as la"
   ]
  },
  {
   "cell_type": "markdown",
   "metadata": {},
   "source": [
    "We solve a system of equations $A \\bf{x} = \\bf{b}$ by forming the augmented matrix $[A \\ \\bf{b}]$ and reducing to row-echelon form using elementary row operations:\n",
    "\n",
    "1. Scale row $i$ by scalar $k$.\n",
    "2. Add $k$ times row $i$ to row $j$.\n",
    "3. Switch rows $i$ and $j$.\n",
    "\n",
    "This procedure is called [Gaussian elimination](https://en.wikipedia.org/wiki/Gaussian_elimination). Each of these row operations is the result of matrix multiplication $EA$ by an [elementary matrix $A$](https://en.wikipedia.org/wiki/Elementary_matrix)."
   ]
  },
  {
   "cell_type": "markdown",
   "metadata": {},
   "source": [
    "Let's write a function called `scale_row` which does \"scale row $i$ by scalar $k$\"."
   ]
  },
  {
   "cell_type": "code",
   "execution_count": 2,
   "metadata": {},
   "outputs": [],
   "source": [
    "def scale_row(A,k,i):\n",
    "    M = A.shape[0]\n",
    "    E = np.eye(M)\n",
    "    E[i,i] = k\n",
    "    return E@A"
   ]
  },
  {
   "cell_type": "markdown",
   "metadata": {},
   "source": [
    "Test our function with a simple matrix $A$."
   ]
  },
  {
   "cell_type": "code",
   "execution_count": 3,
   "metadata": {},
   "outputs": [
    {
     "name": "stdout",
     "output_type": "stream",
     "text": [
      "[[1 2 3]\n",
      " [4 5 6]]\n"
     ]
    }
   ],
   "source": [
    "A = np.array([[1,2,3],[4,5,6]])\n",
    "print(A)"
   ]
  },
  {
   "cell_type": "code",
   "execution_count": 4,
   "metadata": {},
   "outputs": [
    {
     "data": {
      "text/plain": [
       "array([[ 1.,  2.,  3.],\n",
       "       [12., 15., 18.]])"
      ]
     },
     "execution_count": 4,
     "metadata": {},
     "output_type": "execute_result"
    }
   ],
   "source": [
    "scale_row(A,3,1)"
   ]
  },
  {
   "cell_type": "markdown",
   "metadata": {},
   "source": [
    "Let's write a function called `add_rows` which does \"add $k$ times row $i$ to row $j$\"."
   ]
  },
  {
   "cell_type": "code",
   "execution_count": 5,
   "metadata": {},
   "outputs": [],
   "source": [
    "def add_rows(A,k,i,j):\n",
    "    M = A.shape[0]\n",
    "    E = np.eye(M)\n",
    "    E[j,i] = k\n",
    "    return E@A"
   ]
  },
  {
   "cell_type": "code",
   "execution_count": 6,
   "metadata": {},
   "outputs": [
    {
     "data": {
      "text/plain": [
       "array([[ 1.,  2.,  3.],\n",
       "       [ 7., 11., 15.]])"
      ]
     },
     "execution_count": 6,
     "metadata": {},
     "output_type": "execute_result"
    }
   ],
   "source": [
    "add_rows(A,3,0,1)"
   ]
  },
  {
   "cell_type": "markdown",
   "metadata": {},
   "source": [
    "Let's write a function called `switch_rows` which does \"switch row $i$ and $j$\"."
   ]
  },
  {
   "cell_type": "code",
   "execution_count": 7,
   "metadata": {},
   "outputs": [],
   "source": [
    "def switch_rows(A,i,j):\n",
    "    M = A.shape[0]\n",
    "    E = np.eye(M)\n",
    "    E[i,i] = 0\n",
    "    E[j,j] = 0\n",
    "    E[i,j] = 1\n",
    "    E[j,i] = 1\n",
    "    return E@A"
   ]
  },
  {
   "cell_type": "code",
   "execution_count": 8,
   "metadata": {},
   "outputs": [
    {
     "data": {
      "text/plain": [
       "array([[4., 5., 6.],\n",
       "       [1., 2., 3.]])"
      ]
     },
     "execution_count": 8,
     "metadata": {},
     "output_type": "execute_result"
    }
   ],
   "source": [
    "switch_rows(A,0,1)"
   ]
  },
  {
   "cell_type": "markdown",
   "metadata": {},
   "source": [
    "Let's use Gaussian elimination with these functions to solve\n",
    "\n",
    "$$\n",
    "x_0 + 2x_1 = 3 \\\\\n",
    "4x_0 + 5x_1 = 6\n",
    "$$"
   ]
  },
  {
   "cell_type": "code",
   "execution_count": 9,
   "metadata": {},
   "outputs": [
    {
     "name": "stdout",
     "output_type": "stream",
     "text": [
      "[[ 1.  2.  3.]\n",
      " [ 0. -3. -6.]]\n"
     ]
    }
   ],
   "source": [
    "A1 = add_rows(A,-4,0,1)\n",
    "print(A1)"
   ]
  },
  {
   "cell_type": "code",
   "execution_count": 10,
   "metadata": {},
   "outputs": [
    {
     "name": "stdout",
     "output_type": "stream",
     "text": [
      "[[1. 2. 3.]\n",
      " [0. 1. 2.]]\n"
     ]
    }
   ],
   "source": [
    "A2 = scale_row(A1,-1/3,1)\n",
    "print(A2)"
   ]
  },
  {
   "cell_type": "code",
   "execution_count": 11,
   "metadata": {},
   "outputs": [
    {
     "name": "stdout",
     "output_type": "stream",
     "text": [
      "[[ 1.  0. -1.]\n",
      " [ 0.  1.  2.]]\n"
     ]
    }
   ],
   "source": [
    "A3 = add_rows(A2,-2,1,0)\n",
    "print(A3)"
   ]
  },
  {
   "cell_type": "code",
   "execution_count": 12,
   "metadata": {},
   "outputs": [
    {
     "data": {
      "text/plain": [
       "array([[3],\n",
       "       [6]])"
      ]
     },
     "execution_count": 12,
     "metadata": {},
     "output_type": "execute_result"
    }
   ],
   "source": [
    "np.array([[1,2],[4,5]]) @ np.array([[-1],[2]])"
   ]
  },
  {
   "cell_type": "markdown",
   "metadata": {},
   "source": [
    "## Interpolation"
   ]
  },
  {
   "cell_type": "markdown",
   "metadata": {},
   "source": [
    "Let's find the unique polynomial of degree 2 which passes through the points $(0,2), (1,-1), (2,0)$."
   ]
  },
  {
   "cell_type": "markdown",
   "metadata": {},
   "source": [
    "Let $p(x) = a_0 + a_1x + a_2x^2$. We need to solve for $a_0,a_1,a_2$ such that"
   ]
  },
  {
   "cell_type": "markdown",
   "metadata": {},
   "source": [
    "$$\n",
    "a_0 = 2 \\\\\n",
    "a_0 + a_1 + a_2 = -1 \\\\\n",
    "a_0 + 2a_1 + 4a_2 = 0\n",
    "$$"
   ]
  },
  {
   "cell_type": "code",
   "execution_count": 13,
   "metadata": {},
   "outputs": [
    {
     "name": "stdout",
     "output_type": "stream",
     "text": [
      "[[ 1  0  0  2]\n",
      " [ 1  1  1 -1]\n",
      " [ 1  2  4  0]]\n"
     ]
    }
   ],
   "source": [
    "A = np.array([[1,0,0,2],[1,1,1,-1],[1,2,4,0]])\n",
    "print(A)"
   ]
  },
  {
   "cell_type": "code",
   "execution_count": 14,
   "metadata": {},
   "outputs": [
    {
     "name": "stdout",
     "output_type": "stream",
     "text": [
      "[[ 1.  0.  0.  2.]\n",
      " [ 0.  1.  1. -3.]\n",
      " [ 1.  2.  4.  0.]]\n"
     ]
    }
   ],
   "source": [
    "A1 = add_rows(A,-1,0,1)\n",
    "print(A1)"
   ]
  },
  {
   "cell_type": "code",
   "execution_count": 15,
   "metadata": {},
   "outputs": [
    {
     "name": "stdout",
     "output_type": "stream",
     "text": [
      "[[ 1.  0.  0.  2.]\n",
      " [ 0.  1.  1. -3.]\n",
      " [ 0.  2.  4. -2.]]\n"
     ]
    }
   ],
   "source": [
    "A2 = add_rows(A1,-1,0,2)\n",
    "print(A2)"
   ]
  },
  {
   "cell_type": "code",
   "execution_count": 16,
   "metadata": {},
   "outputs": [
    {
     "name": "stdout",
     "output_type": "stream",
     "text": [
      "[[ 1.  0.  0.  2.]\n",
      " [ 0.  1.  1. -3.]\n",
      " [ 0.  0.  2.  4.]]\n"
     ]
    }
   ],
   "source": [
    "A3 = add_rows(A2,-2,1,2)\n",
    "print(A3)"
   ]
  },
  {
   "cell_type": "code",
   "execution_count": 17,
   "metadata": {},
   "outputs": [
    {
     "name": "stdout",
     "output_type": "stream",
     "text": [
      "[[ 1.  0.  0.  2.]\n",
      " [ 0.  1.  1. -3.]\n",
      " [ 0.  0.  1.  2.]]\n"
     ]
    }
   ],
   "source": [
    "A4 = scale_row(A3,1/2,2)\n",
    "print(A4)"
   ]
  },
  {
   "cell_type": "code",
   "execution_count": 18,
   "metadata": {},
   "outputs": [
    {
     "name": "stdout",
     "output_type": "stream",
     "text": [
      "[[ 1.  0.  0.  2.]\n",
      " [ 0.  1.  0. -5.]\n",
      " [ 0.  0.  1.  2.]]\n"
     ]
    }
   ],
   "source": [
    "A5 = add_rows(A4,-1,2,1)\n",
    "print(A5)"
   ]
  },
  {
   "cell_type": "code",
   "execution_count": 19,
   "metadata": {},
   "outputs": [],
   "source": [
    "import matplotlib.pyplot as plt"
   ]
  },
  {
   "cell_type": "code",
   "execution_count": 20,
   "metadata": {},
   "outputs": [
    {
     "data": {
      "text/plain": [
       "[<matplotlib.lines.Line2D at 0x7f35fdabb748>]"
      ]
     },
     "execution_count": 20,
     "metadata": {},
     "output_type": "execute_result"
    },
    {
     "data": {
      "image/png": "[encoded data removed]",
      "text/plain": [
       "<Figure size 432x288 with 1 Axes>"
      ]
     },
     "metadata": {
      "needs_background": "light"
     },
     "output_type": "display_data"
    }
   ],
   "source": [
    "x = np.array([0,1,2])\n",
    "y = np.array([2,-1,0])\n",
    "xs = np.linspace(-1,3,50)\n",
    "ys = 2 - 5*xs + 2*xs**2\n",
    "plt.plot(x,y,'r.')\n",
    "plt.plot(xs,ys)"
   ]
  }
 ],
 "metadata": {
  "kernelspec": {
   "display_name": "Python 3",
   "language": "python",
   "name": "python3"
  },
  "language_info": {
   "codemirror_mode": {
    "name": "ipython",
    "version": 3
   },
   "file_extension": ".py",
   "mimetype": "text/x-python",
   "name": "python",
   "nbconvert_exporter": "python",
   "pygments_lexer": "ipython3",
   "version": "3.7.3"
  }
 },
 "nbformat": 4,
 "nbformat_minor": 2
}
