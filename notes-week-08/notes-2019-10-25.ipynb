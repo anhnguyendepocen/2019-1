{
 "cells": [
  {
   "cell_type": "markdown",
   "metadata": {},
   "source": [
    "# MATH 210 Introduction to Mathematical Computing\n",
    "\n",
    "## October 10, 2019\n",
    "\n",
    "* Arc length\n",
    "* Taylor polynomials"
   ]
  },
  {
   "cell_type": "code",
   "execution_count": 12,
   "metadata": {},
   "outputs": [],
   "source": [
    "import numpy as np\n",
    "import matplotlib.pyplot as plt"
   ]
  },
  {
   "cell_type": "markdown",
   "metadata": {},
   "source": [
    "## Arc length"
   ]
  },
  {
   "cell_type": "markdown",
   "metadata": {},
   "source": [
    "Wrtite a function called `arc_length` which takes input paramters `f`, `a`, `b`, `h` and `N` and returns approximation of the arc length\n",
    "\n",
    "$$\n",
    "\\int_a^b \\sqrt{1 + f'(x)^2} dx\n",
    "$$\n",
    "\n",
    "using the trapezoid rule with $N$ subintervals and central difference approximation of $f'(x)$ using sterp size $h$."
   ]
  },
  {
   "cell_type": "code",
   "execution_count": 13,
   "metadata": {},
   "outputs": [],
   "source": [
    "def arc_length(f,a,b,h,N):\n",
    "    x = np.linspace(a,b,N+1)\n",
    "    df = (f(x+h) - f(x-h))/(2*h)\n",
    "    y = np.sqrt(1 + df**2)\n",
    "    I = np.trapz(y,x)\n",
    "    return I"
   ]
  },
  {
   "cell_type": "markdown",
   "metadata": {},
   "source": [
    "Let's verify our function on $f(x) = 1$ for $x \\in [0,1]$. The arc length is 1."
   ]
  },
  {
   "cell_type": "code",
   "execution_count": 14,
   "metadata": {},
   "outputs": [
    {
     "data": {
      "text/plain": [
       "1.0"
      ]
     },
     "execution_count": 14,
     "metadata": {},
     "output_type": "execute_result"
    }
   ],
   "source": [
    "f = lambda x: np.ones(x.shape)\n",
    "arc_length(f,0,1,0.001,10)"
   ]
  },
  {
   "cell_type": "markdown",
   "metadata": {},
   "source": [
    "Let's try the arc length of a quarter circle of radius 1."
   ]
  },
  {
   "cell_type": "code",
   "execution_count": 15,
   "metadata": {},
   "outputs": [
    {
     "data": {
      "text/plain": [
       "1.5707973267996307"
      ]
     },
     "execution_count": 15,
     "metadata": {},
     "output_type": "execute_result"
    }
   ],
   "source": [
    "f = lambda x: np.sqrt(1-x**2)\n",
    "arc_length(f,-1/np.sqrt(2),1/np.sqrt(2),0.001,1000)"
   ]
  },
  {
   "cell_type": "markdown",
   "metadata": {},
   "source": [
    "Compare to $\\pi/2$."
   ]
  },
  {
   "cell_type": "code",
   "execution_count": 16,
   "metadata": {},
   "outputs": [
    {
     "data": {
      "text/plain": [
       "1.5707963267948966"
      ]
     },
     "execution_count": 16,
     "metadata": {},
     "output_type": "execute_result"
    }
   ],
   "source": [
    "np.pi/2"
   ]
  },
  {
   "cell_type": "markdown",
   "metadata": {},
   "source": [
    "## Taylor polynomials"
   ]
  },
  {
   "cell_type": "markdown",
   "metadata": {},
   "source": [
    "Write a function called `taylor2` which takes input parameters `f`, `a`,  and `h` and returns the coefficients of the 2nd order Taylor polynomial of $f$ at $x=a$:\n",
    "\n",
    "$$\n",
    "T_2(x) = f(a) + f'(a)(x-a) + \\frac{f''(a)}{2}(x-a)^2\n",
    "$$\n",
    "\n",
    "as a 1D NumPy array using central difference formula with step size $h$."
   ]
  },
  {
   "cell_type": "code",
   "execution_count": 17,
   "metadata": {},
   "outputs": [],
   "source": [
    "def taylor2(f,a,h):\n",
    "    fa = f(a)\n",
    "    dfa = (f(a+h) - f(a-h))/(2*h)\n",
    "    d2fa = (f(a+h) - 2*fa + f(a-h))/h**2\n",
    "    c0 = fa - a*dfa + d2fa*a**2/2\n",
    "    c1 = dfa - a*d2fa\n",
    "    c2 = d2fa/2\n",
    "    return np.array([c0,c1,c2])"
   ]
  },
  {
   "cell_type": "code",
   "execution_count": 18,
   "metadata": {},
   "outputs": [
    {
     "data": {
      "text/plain": [
       "array([0., 0., 1.])"
      ]
     },
     "execution_count": 18,
     "metadata": {},
     "output_type": "execute_result"
    }
   ],
   "source": [
    "taylor2(lambda x: x**2,0,0.001)"
   ]
  },
  {
   "cell_type": "code",
   "execution_count": 19,
   "metadata": {},
   "outputs": [
    {
     "data": {
      "text/plain": [
       "array([0.e+00, 1.e-08, 0.e+00])"
      ]
     },
     "execution_count": 19,
     "metadata": {},
     "output_type": "execute_result"
    }
   ],
   "source": [
    "taylor2(lambda x: x**3,0,0.0001)"
   ]
  },
  {
   "cell_type": "code",
   "execution_count": 20,
   "metadata": {},
   "outputs": [],
   "source": [
    "c = taylor2(lambda x: np.cos(x),0,0.0001)"
   ]
  },
  {
   "cell_type": "code",
   "execution_count": 21,
   "metadata": {},
   "outputs": [
    {
     "data": {
      "text/plain": [
       "array([ 1. ,  0. , -0.5])"
      ]
     },
     "execution_count": 21,
     "metadata": {},
     "output_type": "execute_result"
    }
   ],
   "source": [
    "c"
   ]
  },
  {
   "cell_type": "code",
   "execution_count": 22,
   "metadata": {},
   "outputs": [
    {
     "data": {
      "image/png": "[encoded data removed]",
      "text/plain": [
       "<Figure size 432x288 with 1 Axes>"
      ]
     },
     "metadata": {
      "needs_background": "light"
     },
     "output_type": "display_data"
    }
   ],
   "source": [
    "x = np.linspace(-2,2,100)\n",
    "y = np.cos(x)\n",
    "T = c[0] + c[1]*x + c[2]*x**2\n",
    "plt.plot(x,y,x,T)\n",
    "plt.show()"
   ]
  }
 ],
 "metadata": {
  "kernelspec": {
   "display_name": "Python 3",
   "language": "python",
   "name": "python3"
  },
  "language_info": {
   "codemirror_mode": {
    "name": "ipython",
    "version": 3
   },
   "file_extension": ".py",
   "mimetype": "text/x-python",
   "name": "python",
   "nbconvert_exporter": "python",
   "pygments_lexer": "ipython3",
   "version": "3.7.3"
  }
 },
 "nbformat": 4,
 "nbformat_minor": 2
}
