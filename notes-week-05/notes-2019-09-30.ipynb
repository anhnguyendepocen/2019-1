{
 "cells": [
  {
   "cell_type": "markdown",
   "metadata": {},
   "source": [
    "# MATH 210 Introduction to Mathematical Computing\n",
    "\n",
    "## September 30, 2019\n",
    "\n",
    "* More on functions\n",
    "  * Default values\n",
    "  * Lambda functions\n",
    "* Newton's method"
   ]
  },
  {
   "cell_type": "markdown",
   "metadata": {},
   "source": [
    "## Default values for input parameters\n",
    "\n",
    "If we have a function such that one input parameter usually has the same value, then we can assign a default value."
   ]
  },
  {
   "cell_type": "code",
   "execution_count": 1,
   "metadata": {},
   "outputs": [],
   "source": [
    "def f(x,a=1):\n",
    "    return x**2 + a*x + 1"
   ]
  },
  {
   "cell_type": "code",
   "execution_count": 2,
   "metadata": {},
   "outputs": [
    {
     "data": {
      "text/plain": [
       "4"
      ]
     },
     "execution_count": 2,
     "metadata": {},
     "output_type": "execute_result"
    }
   ],
   "source": [
    "f(1,2)"
   ]
  },
  {
   "cell_type": "code",
   "execution_count": 3,
   "metadata": {},
   "outputs": [
    {
     "data": {
      "text/plain": [
       "3"
      ]
     },
     "execution_count": 3,
     "metadata": {},
     "output_type": "execute_result"
    }
   ],
   "source": [
    "f(1)"
   ]
  },
  {
   "cell_type": "code",
   "execution_count": 4,
   "metadata": {},
   "outputs": [
    {
     "data": {
      "text/plain": [
       "3"
      ]
     },
     "execution_count": 4,
     "metadata": {},
     "output_type": "execute_result"
    }
   ],
   "source": [
    "f(1,1)"
   ]
  },
  {
   "cell_type": "markdown",
   "metadata": {},
   "source": [
    "This is Python syntax that makes defining complicated functions with lots of input parametera easier to use. For example, take a look at `pandas.read_csv`."
   ]
  },
  {
   "cell_type": "code",
   "execution_count": 5,
   "metadata": {},
   "outputs": [],
   "source": [
    "import pandas as pd"
   ]
  },
  {
   "cell_type": "code",
   "execution_count": 6,
   "metadata": {},
   "outputs": [],
   "source": [
    "pd.read_csv?"
   ]
  },
  {
   "cell_type": "markdown",
   "metadata": {},
   "source": [
    "Yikes! Imagine having to specify values for all those input parameters every time you use `read_csv`! Thankfully they have default values."
   ]
  },
  {
   "cell_type": "markdown",
   "metadata": {},
   "source": [
    "## Lambda functions\n",
    "\n",
    "The `lambda` keyword let's us define anonymous functions or one-line functions."
   ]
  },
  {
   "cell_type": "code",
   "execution_count": 7,
   "metadata": {},
   "outputs": [],
   "source": [
    "def f(x):\n",
    "    return x**2"
   ]
  },
  {
   "cell_type": "code",
   "execution_count": 8,
   "metadata": {},
   "outputs": [
    {
     "data": {
      "text/plain": [
       "4"
      ]
     },
     "execution_count": 8,
     "metadata": {},
     "output_type": "execute_result"
    }
   ],
   "source": [
    "f(2)"
   ]
  },
  {
   "cell_type": "markdown",
   "metadata": {},
   "source": [
    "The following code does the same thing."
   ]
  },
  {
   "cell_type": "code",
   "execution_count": 9,
   "metadata": {},
   "outputs": [],
   "source": [
    "f = lambda x: x**2"
   ]
  },
  {
   "cell_type": "code",
   "execution_count": 10,
   "metadata": {},
   "outputs": [
    {
     "data": {
      "text/plain": [
       "4"
      ]
     },
     "execution_count": 10,
     "metadata": {},
     "output_type": "execute_result"
    }
   ],
   "source": [
    "f(2)"
   ]
  },
  {
   "cell_type": "markdown",
   "metadata": {},
   "source": [
    "## Newton's method\n",
    "\n",
    "We've seen 2 root finding algorithms, bisection and secant methods, which approximate solutions of $f(x) = 0$. Newton's method is another root finding algorithm. It usually converges much faster than the first two."
   ]
  },
  {
   "cell_type": "markdown",
   "metadata": {},
   "source": [
    "![Newton's Method](https://upload.wikimedia.org/wikipedia/commons/thumb/e/e0/NewtonIteration_Ani.gif/600px-NewtonIteration_Ani.gif)"
   ]
  },
  {
   "cell_type": "markdown",
   "metadata": {},
   "source": [
    "Newton's method generates a recursive sequence\n",
    "\n",
    "$$\n",
    "x_{n+1} = x_n - \\frac{f(x_n)}{f'(x_n)}\n",
    "$$\n",
    "\n",
    "such that $x_n$ \"should\" converge to a solution of $f(x) = 0$.\n",
    "\n",
    "Let's write a function called `newton` which takes 5 input parameters `f`, `Df`, `x0`, `epsilon` (with default value `0.00001`) and `max_iter` (with default value `20`) and returns an approximation of a solution of $f(x)=x$ by Newton's method. The function may terminate in 3 ways:\n",
    "\n",
    "1. If `abs(f(xn)) < epsilon`, the algorithm has found an approximate solution and returns `xn`.\n",
    "2. If `Df(xn) == 0` (the derivative is zero $f'(x_n) = 0$), the algorithm stops and returns `None`.\n",
    "3. If the number of iterations exceed `max_iter` (method is not converging), the algorithm stops and returns `None`."
   ]
  },
  {
   "cell_type": "code",
   "execution_count": 11,
   "metadata": {},
   "outputs": [],
   "source": [
    "def newton(f,Df,x0,epsilon=0.00001,max_iter=20):\n",
    "    xn = x0\n",
    "    for n in range(0,max_iter):\n",
    "        fxn = f(xn)\n",
    "        if abs(fxn) < epsilon:\n",
    "            print('Found solution after',n,'iterations.')\n",
    "            return xn\n",
    "        Dfxn = Df(xn)\n",
    "        if Dfxn == 0:\n",
    "            print('Zero derivative. No solution found.')\n",
    "            return None\n",
    "        xn = xn - fxn/Dfxn\n",
    "    print('Exceeded maximum iterations. No solution found.')\n",
    "    return None"
   ]
  },
  {
   "cell_type": "code",
   "execution_count": 12,
   "metadata": {},
   "outputs": [
    {
     "name": "stdout",
     "output_type": "stream",
     "text": [
      "Found solution after 3 iterations.\n",
      "1.4142156862745099\n"
     ]
    }
   ],
   "source": [
    "f = lambda x: x**2 - 2\n",
    "Df = lambda x: 2*x\n",
    "\n",
    "root = newton(f,Df,1)\n",
    "print(root)"
   ]
  },
  {
   "cell_type": "markdown",
   "metadata": {},
   "source": [
    "We can insert `lambda` function statements directly in the function call."
   ]
  },
  {
   "cell_type": "code",
   "execution_count": 13,
   "metadata": {},
   "outputs": [
    {
     "name": "stdout",
     "output_type": "stream",
     "text": [
      "Found solution after 4 iterations.\n",
      "-2.6457513110645907\n"
     ]
    }
   ],
   "source": [
    "root = newton(lambda x: x**2 - 7,lambda x: 2*x,-3,10e-10)\n",
    "print(root)"
   ]
  },
  {
   "cell_type": "code",
   "execution_count": 14,
   "metadata": {},
   "outputs": [
    {
     "name": "stdout",
     "output_type": "stream",
     "text": [
      "Exceeded maximum iterations. No solution found.\n",
      "None\n"
     ]
    }
   ],
   "source": [
    "root = newton(lambda x: x**4 + 1,lambda x: 4*x**3,-3,10e-10)\n",
    "print(root)"
   ]
  },
  {
   "cell_type": "code",
   "execution_count": 15,
   "metadata": {},
   "outputs": [
    {
     "name": "stdout",
     "output_type": "stream",
     "text": [
      "Zero derivative. No solution found.\n",
      "None\n"
     ]
    }
   ],
   "source": [
    "root = newton(lambda x: x**2 - 1,lambda x: 2*x,0,10e-10)\n",
    "print(root)"
   ]
  },
  {
   "cell_type": "markdown",
   "metadata": {},
   "source": [
    "## Advantages/disadvantages\n",
    "\n",
    "* Bisection:\n",
    "  * Advantage:\n",
    "    * Convergence is guaranteed (as long as $f(a)f(b) < 0$ to start)\n",
    "    * Easy to understand/implement\n",
    "    * Works for continuous but not necessarily differential functions\n",
    "  * Disadvantage:\n",
    "    * It's SLOW!!!\n",
    "* Secant:\n",
    "  * Advantage:\n",
    "    * It's faster than the bisection method\n",
    "    * Works for continuous but not necessarily differential functions\n",
    "  * Disadvantage:\n",
    "    * Convergence is not guaranteed!\n",
    "* Newton:\n",
    "  * Advantage:\n",
    "    * It's FAST!!!\n",
    "  * Disadvantage:\n",
    "    * We need $f(x)$ to be differentiable.\n",
    "    * We need to compute $f'(x)$.\n",
    "    * Convergence is not guaranteed!"
   ]
  }
 ],
 "metadata": {
  "kernelspec": {
   "display_name": "Python 3",
   "language": "python",
   "name": "python3"
  },
  "language_info": {
   "codemirror_mode": {
    "name": "ipython",
    "version": 3
   },
   "file_extension": ".py",
   "mimetype": "text/x-python",
   "name": "python",
   "nbconvert_exporter": "python",
   "pygments_lexer": "ipython3",
   "version": "3.7.3"
  }
 },
 "nbformat": 4,
 "nbformat_minor": 2
}
